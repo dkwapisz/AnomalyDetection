{
  "nbformat": 4,
  "nbformat_minor": 0,
  "metadata": {
    "colab": {
      "name": "AnomalyDetection.ipynb",
      "provenance": [],
      "collapsed_sections": [
        "ahJ0FybuhycF",
        "Yg44Zso4i1DH",
        "EkwFG4DUmruS",
        "oHtUiWhIMGWM",
        "Kfdrm2xgj4l-"
      ]
    },
    "kernelspec": {
      "name": "python3",
      "display_name": "Python 3"
    },
    "language_info": {
      "name": "python"
    },
    "accelerator": "GPU",
    "gpuClass": "standard"
  },
  "cells": [
    {
      "cell_type": "markdown",
      "source": [
        "# Detekcja anomalii w tekście z wykorzystaniem metod uczenia maszynowego"
      ],
      "metadata": {
        "id": "KRKN6JVKhVDB"
      }
    },
    {
      "cell_type": "markdown",
      "source": [
        "Poniższy projekt przedstawia trzy różne podejścia do wykrywania anomalii w tekście, a w szczególności wiadomości spam (Model nr 1 oraz 2) oraz fałszywych wiadomości generowanych automatycznie (Model nr 3), z wykorzystaniem rekurencyjnych sieci neuronowych (LSTM, GRU). Do przetwarzania języka naturalnego (NLP) wykorzystana została metoda \"word embedding\".   \n",
        "\n",
        "Użyte biblioteki do ML:  \n",
        "*   Keras\n",
        "*   TensorFlow-GPU\n",
        "\n",
        "\n",
        "\n"
      ],
      "metadata": {
        "id": "66qua9TujZ7-"
      }
    },
    {
      "cell_type": "markdown",
      "source": [
        "Na wejściu do modelu podajemy wektory o wymiarze równym najdłuższej przetworzonej sekwencji. W przypadku gdy sekwencja jest zbyt krótka, poszczególne wektory dopełniamy zerami tak, aby ich wymiary były równe."
      ],
      "metadata": {
        "id": "DH02vCGI41ty"
      }
    },
    {
      "cell_type": "markdown",
      "source": [
        "## Zestawienie połączenia z Google Drive"
      ],
      "metadata": {
        "id": "ahJ0FybuhycF"
      }
    },
    {
      "cell_type": "markdown",
      "source": [
        "W celu zapewnienia poprawnego działania wszystkich poniższych skryptów, wewnątrz swojego dysku google należy utworzyć folder 'ML' oraz umieścić w nim wszystkie niezbędne pliki. Można je pobrać za pomocą poniższego linku:\n",
        "https://drive.google.com/drive/folders/1FvsaznTq-J2EdRJBiAMsgO8i07JKbmA6?usp=sharing.\n",
        "Po uruchomienu skryptu konieczne jest przejście przez krótki etap autoryzacji."
      ],
      "metadata": {
        "id": "ASm3QoW7ji5V"
      }
    },
    {
      "cell_type": "code",
      "source": [
        "from google.colab import drive\n",
        "drive.mount('/content/gdrive')"
      ],
      "metadata": {
        "colab": {
          "base_uri": "https://localhost:8080/"
        },
        "id": "pefOjUUlRnAV",
        "outputId": "67480d0b-eeff-467f-dbc2-92a37f45afd1"
      },
      "execution_count": null,
      "outputs": [
        {
          "output_type": "stream",
          "name": "stdout",
          "text": [
            "Mounted at /content/gdrive\n"
          ]
        }
      ]
    },
    {
      "cell_type": "markdown",
      "source": [
        "## Import potrzebnych bibliotek"
      ],
      "metadata": {
        "id": "Yg44Zso4i1DH"
      }
    },
    {
      "cell_type": "code",
      "source": [
        "import csv\n",
        "import random\n",
        "import keras.models\n",
        "import string\n",
        "from matplotlib import pyplot as plt\n",
        "import numpy as np\n",
        "from keras import Input\n",
        "from keras import layers\n",
        "from keras import Model\n",
        "from keras.preprocessing.text import Tokenizer\n",
        "from keras.preprocessing.sequence import pad_sequences\n",
        "from keras.models import Sequential\n",
        "from keras.layers import Dense, Flatten, Embedding, CuDNNLSTM, Dropout, Bidirectional, SimpleRNN, BatchNormalization, GRU, Dropout\n",
        "from keras.optimizer_v2 import adam\n",
        "from sklearn.model_selection import train_test_split\n",
        "import pandas as pd\n",
        "from sklearn.utils import shuffle"
      ],
      "metadata": {
        "id": "Sqs7PtOQhTfC"
      },
      "execution_count": null,
      "outputs": []
    },
    {
      "cell_type": "markdown",
      "source": [
        "## Model nr 1- LSTM\n"
      ],
      "metadata": {
        "id": "EkwFG4DUmruS"
      }
    },
    {
      "cell_type": "markdown",
      "source": [
        "Tworzymy listy, w których przechowujemy:  \n",
        "all_X - wszystkie SMSy (jedna pozycja w liście to jest cały SMS)  \n",
        "all_y - wszystkie etykiety SMSów (0 - normalny, 1 - spam)  \n",
        "allSentences - wszystkie smsy (jedna pozycja w liście, to lista słów konkretnego SMSa)  \n",
        "allSentences potrzebujemy, aby określić jaka jest długość najdłuższego SMSa'\n",
        "\n",
        "Następnie, wczytujemy plik Spam.CSV.csv i wypełniamy listy.\n",
        "\n"
      ],
      "metadata": {
        "id": "b7jIUXfzJgq_"
      }
    },
    {
      "cell_type": "code",
      "source": [
        "all_X = []\n",
        "all_y = []\n",
        "allSentences = []\n",
        "\n",
        "with open('/content/gdrive/MyDrive/ML/SpamCSV.csv', 'r', newline='', encoding='utf8') as csvfile:\n",
        "    smsReader = csv.DictReader(csvfile)\n",
        "    for row in smsReader:\n",
        "        sentence = str(row['sms']).split(sep=\" \")\n",
        "        all_X.append(row['sms'])\n",
        "        all_y.append(row['sentiment'])\n",
        "        allSentences.append(sentence)"
      ],
      "metadata": {
        "id": "5HwrPd7RZmDd"
      },
      "execution_count": null,
      "outputs": []
    },
    {
      "cell_type": "markdown",
      "source": [
        "Następnie, dokonujemy zamiany listy pythonowej określającą etykiety na listę numpy, aby dało się ją wykorzystać w sieci neuronowej."
      ],
      "metadata": {
        "id": "PTOWVU9PZnfH"
      }
    },
    {
      "cell_type": "code",
      "source": [
        "for i in range(0, len(all_y)):\n",
        "    all_y[i] = np.array(int(all_y[i]))\n",
        "all_y = np.array(all_y)"
      ],
      "metadata": {
        "id": "Q_BB6TmPZxyu"
      },
      "execution_count": null,
      "outputs": []
    },
    {
      "cell_type": "markdown",
      "source": [
        "W kolejnym kroku następuje podział zbioru danych na:\n",
        "\n",
        "\n",
        "*   Zbiór treningowy (X_train, y_train) - 60% zbioru danych\n",
        "*   Zbiór walidacyjny (X_val, y_val) - 20% zbioru danych\n",
        "*   Zbiór testowy (X_test, y_test) - 20% zbioru danych\n",
        "\n"
      ],
      "metadata": {
        "id": "brnukNyhZy0P"
      }
    },
    {
      "cell_type": "code",
      "source": [
        "X_train, X_rem, y_train, y_rem = train_test_split(all_X, all_y, train_size=0.6)\n",
        "X_test, X_val, y_test, y_val = train_test_split(X_rem, y_rem, train_size=0.5)"
      ],
      "metadata": {
        "id": "MCeRhCX5aIOG"
      },
      "execution_count": null,
      "outputs": []
    },
    {
      "cell_type": "markdown",
      "source": [
        "W kolejnym kroku, przygotowujemy dane do embeddingu."
      ],
      "metadata": {
        "id": "xbarnWyPaSwv"
      }
    },
    {
      "cell_type": "code",
      "source": [
        "# Tworzymy tokenizer.\n",
        "tokenizer = Tokenizer()\n",
        "# Aktualizuje wewnętrzne słownictwo na podstawie listy tekstów. W przypadku, gdy teksty zawierają listy, przyjmujemy, że każdy wpis na liście jest tokenem.\n",
        "tokenizer.fit_on_texts(all_X)\n",
        "# Obliczamy rozmiar słownictwa (możę być większe niż w rzeczywistości, żeby zmniejszyć prawdopodobieństwo kolizji z funkcją hashującą).\n",
        "vocab_size = len(tokenizer.word_index) + 1\n",
        "\n",
        "# Transformujemy teksty na ciąg liczb całkowitych\n",
        "# Uwzględniane są tylko słowa o największej liczbie słów-1 najczęściej występujących. Pod uwagę brane są tylko słowa znane przez tokenizator.\n",
        "encoded_sms_train = tokenizer.texts_to_sequences(X_train)\n",
        "encoded_sms_test = tokenizer.texts_to_sequences(X_test)\n",
        "encoded_sms_val = tokenizer.texts_to_sequences(X_val)\n",
        "\n",
        "# Obliczamy jaka jest największa długość pojedyńczego SMSa\n",
        "max_length = len(max(allSentences, key=lambda coll: len(coll)))\n",
        "\n",
        "# Przekształcamy sekwencję, aby miały tę samą długość.\n",
        "# Funkcja pad_sequences przekształca listę (o długości num_samples) sekwencji (listy liczb całkowitych) w tablicę\n",
        "# numpy 2D o kształcie (num_samples, num_timesteps). num_timesteps = maxlen.\n",
        "# Potrzebujemy sekwencji o tej samej długości w postaci listy Numpy, żeby można było to wrzucić do sieci neuronowej.\n",
        "padded_sms_train = pad_sequences(encoded_sms_train, maxlen=max_length, padding='post')\n",
        "padded_sms_test = pad_sequences(encoded_sms_test, maxlen=max_length, padding='post')\n",
        "padded_sms_val = pad_sequences(encoded_sms_val, maxlen=max_length, padding='post')"
      ],
      "metadata": {
        "id": "aSUPanxdaR_v"
      },
      "execution_count": null,
      "outputs": []
    },
    {
      "cell_type": "markdown",
      "source": [
        "Następna funkcja służy do utworzenia warstwy Embeddingu korzystając z gotowego zanurzenia (glove.840B.300d.txt). Tworzenie macierzy embeddingu trwa stosunkowo długo, dlatego została utworzona poniższa funkcja. Wystarczy jednorazowo utworzyć warstwę, a następnie można z niej cały czas korzystać, gdy potrzebne jest dostosowanie hiperparametrów sieci RNN. Warstwa zostaje zapisana do pliku EmbeddingLayerM1.h5 i jest modelem sieci neuronowej typu Embedding posiadający tylko jedną warstwę."
      ],
      "metadata": {
        "id": "64HdkxSzIWyb"
      }
    },
    {
      "cell_type": "code",
      "source": [
        "def createEmbedding(vocab_size, tokenizer, max_length):\n",
        "\n",
        "    embedding_index = dict()\n",
        "\n",
        "    # https://github.com/stanfordnlp/GloVe\n",
        "    f = open('/content/gdrive/MyDrive/ML/glove.840B.300d.txt', encoding='utf8')\n",
        "    for line in f:\n",
        "        values = line.split()\n",
        "        word = values[0]\n",
        "\n",
        "        try:\n",
        "            coefs = np.asarray(values[1:], dtype='float32')\n",
        "        except ValueError:\n",
        "            for pos in range(len(values[1:])):\n",
        "                # Jeśli dane słowo nie zostało zdefiniowane w embeddingu, to wpisujemy do wektora liczbę losową z zakresu (-1, 1)\n",
        "                if pos == '.' or pos == 'name@domain.com':\n",
        "                    values[pos + 1] = random.randint(-1, 1)\n",
        "                    coefs = np.asarray(values[1:], dtype='float32')\n",
        "\n",
        "        embedding_index[word] = coefs\n",
        "    f.close()\n",
        "\n",
        "    print('Loaded %s word vectors.' % len(embedding_index))\n",
        "\n",
        "    # Tworzymy macierz wag embeddingu.\n",
        "    embedding_matrix = np.zeros((vocab_size, 300))\n",
        "\n",
        "    for word, i in tokenizer.word_index.items():\n",
        "        embedding_vector = embedding_index.get(word)\n",
        "        if embedding_vector is not None:\n",
        "            embedding_matrix[i] = embedding_vector\n",
        "\n",
        "    model = Sequential()\n",
        "    model.add(Embedding(vocab_size, 300, weights=[embedding_matrix], input_length=max_length, trainable=False))\n",
        "\n",
        "    model.save(\"/content/gdrive/MyDrive/ML/EmbeddingLayerM1.h5\")"
      ],
      "metadata": {
        "id": "Z3LyUPodHYg-"
      },
      "execution_count": null,
      "outputs": []
    },
    {
      "cell_type": "markdown",
      "source": [
        "Poniższą funkcję wystarczy wywołać tylko raz, aby utworzyć plik EmbeddingLayerM1.h5 (warstwę Embeddingu)."
      ],
      "metadata": {
        "id": "e4puRtI_Jwe6"
      }
    },
    {
      "cell_type": "code",
      "source": [
        "createEmbedding(vocab_size=vocab_size, tokenizer=tokenizer, max_length=max_length)"
      ],
      "metadata": {
        "id": "uCEhWeONJwCd"
      },
      "execution_count": null,
      "outputs": []
    },
    {
      "cell_type": "markdown",
      "source": [
        "W poniższym fragmencie następuje trenowanie sieci neuronowej. Na wejściu sieci wykorzystujemy utworzoną wcześniej warstwę Embeddingu, aby dane wejściowe były odpowiednio przetworzone. Warstwa ta nie podlega doszkalaniu (parametr trainable=False). Następnie, wykorzystywana jest warstwa LSTM przystosowana do szkolenia na GPU (wersja CuDNNLSTM). Warstwa Dropout została dodana, aby zmniejszyć ryzyko przeuczenia się modelu."
      ],
      "metadata": {
        "id": "7Hqni8SmJMGV"
      }
    },
    {
      "cell_type": "code",
      "source": [
        "embeddingLayer = keras.models.load_model(\"/content/gdrive/MyDrive/ML/EmbeddingLayerM1.h5\")\n",
        "\n",
        "model = Sequential()\n",
        "model.add(embeddingLayer)\n",
        "model.add(Bidirectional(CuDNNLSTM(512, return_sequences=True)))\n",
        "model.add(Dropout(0.3))\n",
        "model.add(Flatten())\n",
        "model.add(Dense(1, activation='sigmoid'))\n",
        "\n",
        "model.compile(optimizer='RMSprop', loss='binary_crossentropy', metrics=['accuracy'])\n",
        "model.fit(padded_sms_train, y_train, epochs=5, validation_data=(padded_sms_val, y_val))\n",
        "\n",
        "model.save('/content/gdrive/MyDrive/ML/Model1.h5')\n",
        "\n",
        "model.evaluate(padded_sms_test, y_test)\n"
      ],
      "metadata": {
        "id": "Ht2wZBWOI0dc"
      },
      "execution_count": null,
      "outputs": []
    },
    {
      "cell_type": "markdown",
      "source": [
        "## Model nr 2- GRU\n"
      ],
      "metadata": {
        "id": "oHtUiWhIMGWM"
      }
    },
    {
      "cell_type": "markdown",
      "source": [
        "W pierwszej kolejności wprowadzamy funkcje, które będą przydatne w dalszej części modelu. Są to kolejno:  \n",
        "*vectorizeSequences*- przetwarzamy sekwencje wejściowe w taki sposób, aby zwrócić wektory reprezentujące zawartości poszczególnych sekwencji  \n",
        "*accPlot*- służy do wyśwetlania wykresu dokładności  \n",
        "*lossPlot*- służy do wyświetlania wykresu strat  \n",
        "*remove_punctation*- usuwanie nieistotnych w naszym przypadku znaków interpunkcyjnych"
      ],
      "metadata": {
        "id": "Fe1sovtaNfz2"
      }
    },
    {
      "cell_type": "code",
      "source": [
        "def vectorizeSequences(sequences, dimension):\n",
        "    results = np.zeros((len(sequences), dimension))\n",
        "    for i, sequence in enumerate(sequences):\n",
        "        results[i, sequence] = 1\n",
        "\n",
        "    return results\n",
        "\n",
        "\n",
        "def accPlot(history):\n",
        "    acc = history.history['accuracy']\n",
        "    val_acc = history.history['val_accuracy']\n",
        "\n",
        "    epochs = range(1, len(acc) + 1)\n",
        "\n",
        "    plt.plot(epochs, acc, 'ro', label='Training accuracy')\n",
        "    plt.plot(epochs, val_acc, 'r', label='Validation accuracy')\n",
        "    plt.title('Accuracy of training and validation')\n",
        "    plt.xlabel('Epochs')\n",
        "    plt.ylabel('Accuracy')\n",
        "    plt.legend()\n",
        "\n",
        "    plt.show()\n",
        "\n",
        "\n",
        "def lossPlot(history):\n",
        "    acc = history.history['accuracy']\n",
        "    loss = history.history['loss']\n",
        "    val_loss = history.history['val_loss']\n",
        "\n",
        "    epochs = range(1, len(acc) + 1)\n",
        "\n",
        "    plt.plot(epochs, loss, 'bo', label='Training loss')\n",
        "    plt.plot(epochs, val_loss, 'b', label='Validation loss')\n",
        "    plt.title('Loss of training and validation')\n",
        "    plt.xlabel('Epochs')\n",
        "    plt.ylabel('Loss')\n",
        "    plt.legend()\n",
        "\n",
        "    plt.show()\n",
        "\n",
        "\n",
        "def remove_punctuation(text):\n",
        "    punctuation_free = \"\".join([i for i in text if i not in string.punctuation])\n",
        "    return punctuation_free"
      ],
      "metadata": {
        "id": "hOG6eQQBNh3e"
      },
      "execution_count": null,
      "outputs": []
    },
    {
      "cell_type": "markdown",
      "source": [
        "W kolejnym kroku należy odpowiednio przygotować dane, w taki sposób, aby nadawały się do dalszego przetwarzania. Wczytujemy dane z dysku, a następnie przypisujemy je do zmiennych:  \n",
        "x - wszystkie SMSy (jedna pozycja w liście to jest cały SMS)  \n",
        "y - wszystkie etykiety SMSów (0 - normalny, 1 - spam)  \n",
        "Konieczne jest również wydzielenie podzbioru treningowego, spośród całego zbioru danych  \n",
        "Należy także obrobić dane- usuwamy znaki interpunkcyjne oraz zmieniamy wielkość znaków."
      ],
      "metadata": {
        "id": "zkmd2-Z-MGWV"
      }
    },
    {
      "cell_type": "code",
      "source": [
        "data = pd.read_csv(\"/content/gdrive/MyDrive/ML/SpamCSV.csv\", encoding=\"ISO-8859-1\")\n",
        "pd.set_option('display.max_colwidth', None)\n",
        "data = data[['sms', 'sentiment']]\n",
        "\n",
        "y = data.drop(columns=['sms']).copy()\n",
        "X = data['sms']\n",
        "\n",
        "print(X)\n",
        "print(y)\n",
        "y_train, y_rem, X_train, X_rem = train_test_split(y, X, train_size=0.7)\n",
        "\n",
        "X_train = X_train.apply(lambda x: remove_punctuation(x))\n",
        "X_train = X_train.apply(lambda x: x.lower())\n",
        "\n",
        "max_length = len(max(X_train, key=lambda coll: len(coll)))\n",
        "\n",
        "# Tworzymy tokenizer.\n",
        "tokenizer = Tokenizer()\n",
        "# Aktualizuje wewnętrzne słownictwo na podstawie listy tekstów. W przypadku, gdy teksty zawierają listy, przyjmujemy, że każdy wpis na liście jest tokenem.\n",
        "tokenizer.fit_on_texts(X_train)\n",
        "# Obliczamy rozmiar słownictwa (możę być większe niż w rzeczywistości, żeby zmniejszyć prawdopodobieństwo kolizji z funkcją hashującą).\n",
        "vocab_size = len(tokenizer.word_index) + 1\n",
        "\n",
        "# Transformujemy teksty na ciąg liczb całkowitych\n",
        "# Uwzględniane są tylko słowa o największej liczbie słów-1 najczęściej występujących. Pod uwagę brane są tylko słowa znane przez tokenizator.\n",
        "X_train = tokenizer.texts_to_sequences(X_train)\n",
        "\n",
        "# Przekształcamy sekwencję, aby miały tę samą długość.\n",
        "# Funkcja pad_sequences przekształca listę (o długości num_samples) sekwencji (listy liczb całkowitych) w tablicę\n",
        "# numpy 2D o kształcie (num_samples, num_timesteps). num_timesteps = maxlen.\n",
        "# Potrzebujemy sekwencji o tej samej długości w postaci listy Numpy, żeby można było to wrzucić do sieci neuronowej.\n",
        "X_train = pad_sequences(X_train, maxlen=max_length, padding='post')"
      ],
      "metadata": {
        "id": "gZT93CTAMGWW"
      },
      "execution_count": null,
      "outputs": []
    },
    {
      "cell_type": "markdown",
      "source": [
        "Następna funkcja służy do utworzenia warstwy Embeddingu korzystając z gotowego zanurzenia (glove.840B.300d.txt). Tworzenie macierzy embeddingu trwa stosunkowo długo, dlatego została utworzona poniższa funkcja. Wystarczy jednorazowo utworzyć warstwę, a następnie można z niej cały czas korzystać, gdy potrzebne jest dostosowanie hiperparametrów sieci RNN. Warstwa zostaje zapisana do pliku EmbeddingLayerM2.h5 i jest modelem sieci neuronowej typu Embedding posiadający tylko jedną warstwę."
      ],
      "metadata": {
        "id": "If82LYnOMGWW"
      }
    },
    {
      "cell_type": "code",
      "source": [
        "def createEmbedding(vocab_size, tokenizer, max_length):\n",
        "\n",
        "    embedding_index = dict()\n",
        "\n",
        "    f = open('/content/gdrive/MyDrive/ML/glove.840B.300d.txt', encoding='utf8')\n",
        "    for line in f:\n",
        "        values = line.split()\n",
        "        word = values[0]\n",
        "\n",
        "        try:\n",
        "            coefs = np.asarray(values[1:], dtype='float32')\n",
        "        except ValueError:\n",
        "            for pos in range(len(values[1:])):\n",
        "                # Jeśli dane słowo nie zostało zdefiniowane w embeddingu, to wpisujemy do wektora liczbę losową z zakresu (-1, 1)\n",
        "                if pos == '.' or pos == 'name@domain.com':\n",
        "                    values[pos + 1] = random.randint(-1, 1)\n",
        "                    coefs = np.asarray(values[1:], dtype='float32')\n",
        "\n",
        "        embedding_index[word] = coefs\n",
        "    f.close()\n",
        "\n",
        "    print('Loaded %s word vectors.' % len(embedding_index))\n",
        "\n",
        "    # Tworzymy macierz wag embeddingu.\n",
        "    embedding_matrix = np.zeros((vocab_size, 300))\n",
        "\n",
        "    for word, i in tokenizer.word_index.items():\n",
        "        embedding_vector = embedding_index.get(word)\n",
        "        if embedding_vector is not None:\n",
        "            embedding_matrix[i] = embedding_vector\n",
        "\n",
        "    model = Sequential()\n",
        "    model.add(Embedding(vocab_size, 300, weights=[embedding_matrix], input_length=max_length, trainable=True))\n",
        "\n",
        "    model.save(\"/content/gdrive/MyDrive/ML/EmbeddingLayerM2.h5\")"
      ],
      "metadata": {
        "id": "JYtJhYf0MGWW"
      },
      "execution_count": null,
      "outputs": []
    },
    {
      "cell_type": "markdown",
      "source": [
        "Poniższą funkcję wystarczy wywołać tylko raz, aby utworzyć plik EmbeddingLayerM2.h5 (warstwę Embeddingu)."
      ],
      "metadata": {
        "id": "clE3fPKHMGWW"
      }
    },
    {
      "cell_type": "code",
      "source": [
        "createEmbedding(vocab_size=vocab_size, tokenizer=tokenizer, max_length=max_length)"
      ],
      "metadata": {
        "id": "vfQlGTfEMGWX"
      },
      "execution_count": null,
      "outputs": []
    },
    {
      "cell_type": "markdown",
      "source": [
        "W poniższym fragmencie następuje trenowanie sieci neuronowej. Na wejściu sieci wykorzystujemy utworzoną wcześniej warstwę Embeddingu, aby dane wejściowe były odpowiednio przetworzone. Następnie, wykorzystywana jest warstwa GRU. Warstwa Dropout została dodana, aby zmniejszyć ryzyko przeuczenia się modelu.  \n",
        "Tworzymy także wykresy, aby zobrazować otrzymane wyniki"
      ],
      "metadata": {
        "id": "EHfhlZhBMGWX"
      }
    },
    {
      "cell_type": "code",
      "source": [
        "embeddingLayer = keras.models.load_model(\"/content/gdrive/MyDrive/ML/EmbeddingLayerM2.h5\")\n",
        "\n",
        "model = Sequential()\n",
        "model.add(embeddingLayer)\n",
        "model.add(GRU(512, return_sequences=True))\n",
        "model.add(Dropout(0.2))\n",
        "model.add(Dense(1, activation='sigmoid'))\n",
        "model.compile(optimizer='RMSprop', loss='binary_crossentropy', metrics=['accuracy'])\n",
        "history = model.fit(x=X_train, y=y_train, validation_split=0.2, batch_size=32, shuffle=True, epochs=5)\n",
        "\n",
        "print(vocab_size)\n",
        "accPlot(history)\n",
        "lossPlot(history)\n",
        "\n",
        "X_rem = X_rem.apply(lambda x: remove_punctuation(x))\n",
        "X_rem = X_rem.apply(lambda x: x.lower())\n",
        "\n",
        "max_length = len(max(X_rem, key=lambda coll: len(coll)))\n",
        "\n",
        "# tokenizer = Tokenizer()\n",
        "# vocab_size = len(tokenizer.word_index) + 1\n",
        "X_rem = tokenizer.texts_to_sequences(X_rem)\n",
        "X_rem = pad_sequences(X_rem, maxlen=max_length, padding='post')\n",
        "# response = model.evaluate(x=X_rem, y=y_rem)\n",
        "\n",
        "model.save('/content/gdrive/MyDrive/ML/Model2.h5')\n"
      ],
      "metadata": {
        "colab": {
          "base_uri": "https://localhost:8080/",
          "height": 781
        },
        "outputId": "841974b4-aa40-429a-a5d9-6f693ca32661",
        "id": "ZG0lKgRwMGWX"
      },
      "execution_count": null,
      "outputs": [
        {
          "output_type": "stream",
          "name": "stdout",
          "text": [
            "WARNING:tensorflow:No training configuration found in the save file, so the model was *not* compiled. Compile it manually.\n",
            "Epoch 1/5\n",
            "98/98 [==============================] - 14s 115ms/step - loss: 0.4533 - accuracy: 0.8738 - val_loss: 0.4469 - val_accuracy: 0.8729\n",
            "Epoch 2/5\n",
            "98/98 [==============================] - 11s 111ms/step - loss: 0.2847 - accuracy: 0.9128 - val_loss: 0.0994 - val_accuracy: 0.9700\n",
            "Epoch 3/5\n",
            "98/98 [==============================] - 11s 112ms/step - loss: 0.0594 - accuracy: 0.9854 - val_loss: 0.0949 - val_accuracy: 0.9713\n",
            "Epoch 4/5\n",
            "98/98 [==============================] - 11s 111ms/step - loss: 0.0384 - accuracy: 0.9898 - val_loss: 0.0797 - val_accuracy: 0.9765\n",
            "Epoch 5/5\n",
            "98/98 [==============================] - 12s 119ms/step - loss: 0.0257 - accuracy: 0.9939 - val_loss: 0.0813 - val_accuracy: 0.9801\n",
            "6883\n"
          ]
        },
        {
          "output_type": "display_data",
          "data": {
            "text/plain": [
              "<Figure size 432x288 with 1 Axes>"
            ],
            "image/png": "[encoded data removed]"
          },
          "metadata": {
            "needs_background": "light"
          }
        },
        {
          "output_type": "display_data",
          "data": {
            "text/plain": [
              "<Figure size 432x288 with 1 Axes>"
            ],
            "image/png": "[encoded data removed]"
          },
          "metadata": {
            "needs_background": "light"
          }
        }
      ]
    },
    {
      "cell_type": "markdown",
      "source": [
        "## Model nr 3"
      ],
      "metadata": {
        "id": "Kfdrm2xgj4l-"
      }
    },
    {
      "cell_type": "markdown",
      "source": [
        "W piwerwszej kolejności wczytujemy dane z dysku:  \n",
        "*false_data*- wiadomości wygenerowane przez boty  \n",
        "*true_data*- wiadomości prawdziwe\n"
      ],
      "metadata": {
        "id": "78VrE_oGXRbb"
      }
    },
    {
      "cell_type": "code",
      "source": [
        "false_data = pd.read_csv('/content/gdrive/MyDrive/ML/Fake.csv', encoding=\"ISO-8859-1\")\n",
        "false_data[\"Label\"] = 0\n",
        "true_data = pd.read_csv('/content/gdrive/MyDrive/ML/True.csv', encoding=\"ISO-8859-1\")\n",
        "true_data[\"Label\"] = 1"
      ],
      "metadata": {
        "id": "PrNdBARLXA51"
      },
      "execution_count": null,
      "outputs": []
    },
    {
      "cell_type": "markdown",
      "source": [
        "Konkatenacja dwóch csvek do jednej"
      ],
      "metadata": {
        "id": "H636J-BAbKrE"
      }
    },
    {
      "cell_type": "code",
      "source": [
        "final_data = pd.concat([true_data, false_data], ignore_index=True)\n",
        "final_data = shuffle(final_data)\n",
        "\n",
        "pd.set_option('display.max_colwidth', None)\n",
        "final_data = final_data[['title','Label']]\n",
        "\n",
        "x = final_data['title']\n",
        "y = final_data['Label']\n",
        "# y_train, y_rem, X_train, X_rem = train_test_split(y, x, train_size=0.75)\n",
        "\n",
        "final_data.to_csv('final.csv',index=False)"
      ],
      "metadata": {
        "id": "tK6rbXB4bKcO"
      },
      "execution_count": null,
      "outputs": []
    },
    {
      "cell_type": "markdown",
      "source": [
        "Embedding"
      ],
      "metadata": {
        "id": "_83CxdWEbho8"
      }
    },
    {
      "cell_type": "code",
      "source": [
        "\n",
        "f = open('/content/gdrive/MyDrive/ML/glove.6B.300d.txt', encoding='utf-8')\n",
        "\n",
        "embedding_index = {}\n",
        "for line in f:\n",
        "    values = line.split()\n",
        "    word = values[0]\n",
        "    coefs = np.asarray(values[1:], dtype='float32')\n",
        "    embedding_index[word] = coefs\n",
        "f.close()\n",
        "\n",
        "print('Found %s word vectors.' % len(embedding_index))"
      ],
      "metadata": {
        "colab": {
          "base_uri": "https://localhost:8080/"
        },
        "id": "lHL9yYU8bRE-",
        "outputId": "a847eca1-a0e5-46a7-d96b-95c7541e41d1"
      },
      "execution_count": null,
      "outputs": [
        {
          "output_type": "stream",
          "name": "stdout",
          "text": [
            "Found 400000 word vectors.\n"
          ]
        }
      ]
    },
    {
      "cell_type": "markdown",
      "source": [
        "Następnie wprowadzamy funkcje, które będą przydatne w dalszej części modelu. Są to kolejno:  \n",
        "*vectorizeSequences*- przetwarzamy sekwencje wejściowe w taki sposób, aby zwrócić wektory reprezentujące zawartości poszczególnych sekwencji  \n",
        "*accPlot*- służy do wyśwetlania wykresu dokładności  \n",
        "*lossPlot*- służy do wyświetlania wykresu strat  \n",
        "*remove_punctation*- usuwanie nieistotnych w naszym przypadku znaków interpunkcyjnych"
      ],
      "metadata": {
        "id": "RYLMMcsAuzTQ"
      }
    },
    {
      "cell_type": "code",
      "source": [
        "def vectorizeSequences(sequences, dimension):\n",
        "    results = np.zeros((len(sequences), dimension))\n",
        "    for i, sequence in enumerate(sequences):\n",
        "        results[i, sequence] = 1\n",
        "\n",
        "    return results\n",
        "\n",
        "\n",
        "def accPlot(history):\n",
        "    acc = history.history['accuracy']\n",
        "    val_acc = history.history['val_accuracy']\n",
        "\n",
        "    epochs = range(1, len(acc) + 1)\n",
        "\n",
        "    plt.plot(epochs, acc, 'ro', label='Training accuracy')\n",
        "    plt.plot(epochs, val_acc, 'r', label='Validation accuracy')\n",
        "    plt.title('Accuracy of training and validation')\n",
        "    plt.xlabel('Epochs')\n",
        "    plt.ylabel('Accuracy')\n",
        "    plt.legend()\n",
        "\n",
        "    plt.show()\n",
        "\n",
        "\n",
        "def lossPlot(history):\n",
        "    acc = history.history['accuracy']\n",
        "    loss = history.history['loss']\n",
        "    val_loss = history.history['val_loss']\n",
        "\n",
        "    epochs = range(1, len(acc) + 1)\n",
        "\n",
        "    plt.plot(epochs, loss, 'bo', label='Training loss')\n",
        "    plt.plot(epochs, val_loss, 'b', label='Validation loss')\n",
        "    plt.title('Loss of training and validation')\n",
        "    plt.xlabel('Epochs')\n",
        "    plt.ylabel('Loss')\n",
        "    plt.legend()\n",
        "\n",
        "    plt.show()\n",
        "\n",
        "\n",
        "def remove_punctuation(text):\n",
        "    punctuation_free = \"\".join([i for i in text if i not in string.punctuation])\n",
        "    return punctuation_free"
      ],
      "metadata": {
        "id": "3VZye3pGjoaU"
      },
      "execution_count": null,
      "outputs": []
    },
    {
      "cell_type": "markdown",
      "source": [
        "Przygotowywujemy danę tak jak w poprzednich przypadkach, tym razem jednak nie używamy funkcji .lower(), gdyż po obejrzeniu danych zauważyliśmy, że w fałszywych newsach często używa się caps lock'a.\n",
        "\n",
        "Następnie przygotowywujemy dane do uczenia w następujący sposób:\n",
        "\n",
        "\n",
        "\n",
        "1.   Przygotowanie danych -> usunięcie znaków interpunkcyjnych (w pozostałych modelach w tym kroku, także sprowadzenie tekstu do małych liter)\n",
        "2.   Wektoryzacja tekstu (Ala ma kota -> [5 13 8])\n",
        "3.   Wypełnienie wektora zerami, aby długość utworzonych wektorów była taka sama ([5 13 8] -> [5 13 8 0 0 0 0 ])\n",
        "\n"
      ],
      "metadata": {
        "id": "qfl5zFvabFEA"
      }
    },
    {
      "cell_type": "code",
      "source": [
        "# ----------- TITLE -------------\n",
        "title = final_data['title']\n",
        "# title = X_train\n",
        "title = title.apply(lambda x: remove_punctuation(x))\n",
        "# title = title.apply(lambda x: x.lower())\n",
        "\n",
        "max_length_title = len(max(title, key=lambda coll: len(coll)))\n",
        "\n",
        "tokenizer = Tokenizer()\n",
        "tokenizer.fit_on_texts(title)\n",
        "vocab_size_title = len(tokenizer.word_index) + 1\n",
        "\n",
        "title = tokenizer.texts_to_sequences(title)\n",
        "title = pad_sequences(title, maxlen=max_length_title, padding='post')"
      ],
      "metadata": {
        "id": "kVJ_cS-1fYld"
      },
      "execution_count": null,
      "outputs": []
    },
    {
      "cell_type": "markdown",
      "source": [
        "Tworzymy macierz Embeddingu"
      ],
      "metadata": {
        "id": "CBGSvZwkdLrO"
      }
    },
    {
      "cell_type": "code",
      "source": [
        "# -------TITLE EMBEDDING MATRIX --------\n",
        "title_embedding_matrix = np.zeros((vocab_size_title, 300))\n",
        "\n",
        "for word, i in tokenizer.word_index.items():\n",
        "    embedding_vector = embedding_index.get(word)\n",
        "    if embedding_vector is not None:\n",
        "        title_embedding_matrix[i] = embedding_vector"
      ],
      "metadata": {
        "id": "4bkypk8KiuNI"
      },
      "execution_count": null,
      "outputs": []
    },
    {
      "cell_type": "markdown",
      "source": [
        "W podanym niżej modelu możemy analizować kontekst między słowami występującymi w tytule, gdyż na wejściu podajemy stokenizowaną sekwencję tekstu. Sekwenca ta trafia na:\n",
        "\n",
        "1.   Warstwę embeddingu\n",
        "\n",
        "2.   Warstwę rekurencyjna GRU\n",
        "3.   Warstwę głęboka\n",
        "4.   Kolejną warstwę rekurencyjna GRU\n",
        "5.   Warstwę głęboka \n",
        "\n"
      ],
      "metadata": {
        "id": "2NUAlCQ1u_wM"
      }
    },
    {
      "cell_type": "code",
      "source": [
        ""
      ],
      "metadata": {
        "id": "70uK78E2gdAZ"
      },
      "execution_count": null,
      "outputs": []
    },
    {
      "cell_type": "code",
      "source": [
        "model = Sequential()\n",
        "model.add(layers.Embedding(vocab_size_title, 300, weights=[title_embedding_matrix],\n",
        "                    input_length=max_length_title))\n",
        "model.add(layers.GRU(512,return_sequences=True,activation='relu'))\n",
        "model.add(layers.Dense(12, activation='sigmoid'))\n",
        "model.add(layers.GRU(265,return_sequences=True,activation='relu'))\n",
        "model.add(layers.Dense(1, activation='sigmoid'))\n",
        "# opt = adam.Adam(learning_rate=0.000001)\n",
        "model.compile(optimizer='rmsprop', loss='binary_crossentropy', metrics=['accuracy'])\n",
        "history = model.fit(title,y, validation_split=0.2, batch_size=128, shuffle=True, epochs=4, verbose=1)\n",
        "\n",
        "model.save('/content/gdrive/MyDrive/ML/Model3.h5')\n",
        "\n",
        "accPlot(history)\n",
        "lossPlot(history)\n"
      ],
      "metadata": {
        "colab": {
          "base_uri": "https://localhost:8080/",
          "height": 747
        },
        "id": "CK1uwj7czTlx",
        "outputId": "28244c6e-cab6-4722-a93a-4d3cf2dd1079"
      },
      "execution_count": null,
      "outputs": [
        {
          "output_type": "stream",
          "name": "stdout",
          "text": [
            "WARNING:tensorflow:Layer gru_1 will not use cuDNN kernels since it doesn't meet the criteria. It will use a generic GPU kernel as fallback when running on GPU.\n",
            "WARNING:tensorflow:Layer gru_2 will not use cuDNN kernels since it doesn't meet the criteria. It will use a generic GPU kernel as fallback when running on GPU.\n",
            "Epoch 1/4\n",
            "281/281 [==============================] - 380s 1s/step - loss: 0.4105 - accuracy: 0.8220 - val_loss: 0.2578 - val_accuracy: 0.9266\n",
            "Epoch 2/4\n",
            "281/281 [==============================] - 369s 1s/step - loss: 0.1817 - accuracy: 0.9403 - val_loss: 0.1338 - val_accuracy: 0.9542\n",
            "Epoch 3/4\n",
            "281/281 [==============================] - 371s 1s/step - loss: 0.1149 - accuracy: 0.9628 - val_loss: 0.1016 - val_accuracy: 0.9629\n",
            "Epoch 4/4\n",
            "281/281 [==============================] - 369s 1s/step - loss: 0.0715 - accuracy: 0.9741 - val_loss: 0.0831 - val_accuracy: 0.9692\n"
          ]
        },
        {
          "output_type": "display_data",
          "data": {
            "text/plain": [
              "<Figure size 432x288 with 1 Axes>"
            ],
            "image/png": "[encoded data removed]"
          },
          "metadata": {
            "needs_background": "light"
          }
        },
        {
          "output_type": "display_data",
          "data": {
            "text/plain": [
              "<Figure size 432x288 with 1 Axes>"
            ],
            "image/png": "[encoded data removed]"
          },
          "metadata": {
            "needs_background": "light"
          }
        }
      ]
    }
  ]
}